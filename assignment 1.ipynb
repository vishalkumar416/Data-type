{
 "cells": [
  {
   "cell_type": "code",
   "execution_count": 3,
   "id": "ebaee790-98ef-4471-bb27-e145ff17d6c2",
   "metadata": {},
   "outputs": [
    {
     "name": "stdout",
     "output_type": "stream",
     "text": [
      "['Hello, World!', [1, 2, 3, 4, 5], 3.14, (1, 'a', 3.5)]\n"
     ]
    }
   ],
   "source": [
    "data = [\"Hello, World!\", [1, 2, 3, 4, 5], 3.14, (1, 'a', 3.5)]\n",
    "print(data)"
   ]
  },
  {
   "cell_type": "code",
   "execution_count": 4,
   "id": "973361bd-30b3-4938-a4f7-bcd199de4557",
   "metadata": {},
   "outputs": [
    {
     "name": "stdout",
     "output_type": "stream",
     "text": [
      "<class 'str'>\n",
      "<class 'str'>\n",
      "<class 'list'>\n",
      "<class 'float'>\n"
     ]
    }
   ],
   "source": [
    "var1 = ' '\n",
    "var2 = '[ DS , ML , Python]'\n",
    "var3 = [ 'DS' , 'ML' , 'Python' ]\n",
    "var4 = 1.\n",
    "\n",
    "print(type(var1))  \n",
    "print(type(var2))\n",
    "print(type(var3))  \n",
    "print(type(var4))  \n"
   ]
  },
  {
   "cell_type": "code",
   "execution_count": 5,
   "id": "f04cf113-85c0-44e9-82e7-167fb4d8b592",
   "metadata": {},
   "outputs": [
    {
     "name": "stdout",
     "output_type": "stream",
     "text": [
      "3.3333333333333335\n",
      "1\n",
      "3\n",
      "9\n"
     ]
    }
   ],
   "source": [
    "# (i) Division '/'\n",
    "# The division operator (/) is used to divide one number by another and returns a floating-point result.\n",
    "div=10/3\n",
    "print(div)\n",
    "#  Modulus '%'\n",
    "# The modulus operator (%) returns the remainder of the division of one number by another.\n",
    "mod=5%2\n",
    "print(mod)\n",
    "# Floor Division '//'\n",
    "# The floor division operator (//) divides one number by another and returns the largest integer less than or equal to the result (i.e., it performs division and then takes the floor of the result).\n",
    "flr_div=10//3\n",
    "print(flr_div)\n",
    "# Exponentiation '**'\n",
    "# The exponentiation operator (**) raises one number to the power of another.\n",
    "exp=3**2\n",
    "print(exp)"
   ]
  },
  {
   "cell_type": "code",
   "execution_count": 6,
   "id": "bc597152-bd3e-4a42-8c5d-9205c095ac7a",
   "metadata": {},
   "outputs": [
    {
     "name": "stdout",
     "output_type": "stream",
     "text": [
      "42 <class 'int'>\n",
      "3.14 <class 'float'>\n",
      "Hello, World! <class 'str'>\n",
      "[1, 2, 3] <class 'list'>\n",
      "(4, 5, 6) <class 'tuple'>\n",
      "{'key': 'value'} <class 'dict'>\n",
      "{8, 9, 7} <class 'set'>\n",
      "True <class 'bool'>\n",
      "None <class 'NoneType'>\n",
      "(2+3j) <class 'complex'>\n"
     ]
    }
   ],
   "source": [
    "mixed_list = [\n",
    "    42,                     # Integer\n",
    "    3.14,                   # Float\n",
    "    \"Hello, World!\",        # String\n",
    "    [1, 2, 3],              # List\n",
    "    (4, 5, 6),              # Tuple\n",
    "    {'key': 'value'},       # Dictionary\n",
    "    {7, 8, 9},              # Set\n",
    "    True,                   # Boolean\n",
    "    None,                   # NoneType\n",
    "    complex(2, 3)           # Complex number\n",
    "]\n",
    "\n",
    "# Using for loop to print each element and its data type\n",
    "for i in mixed_list:\n",
    "    print(i,type(i))\n"
   ]
  },
  {
   "cell_type": "code",
   "execution_count": 7,
   "id": "860d2285-1b9d-415e-82dd-c9167f1503ca",
   "metadata": {},
   "outputs": [
    {
     "name": "stdout",
     "output_type": "stream",
     "text": [
      "The number is divisible 2 times.\n"
     ]
    }
   ],
   "source": [
    "A = 100\n",
    "B = 5\n",
    "count = 0\n",
    "\n",
    "# While loop to check divisibility\n",
    "while A % B == 0:\n",
    "    A = A / B\n",
    "    count = count + 1\n",
    "\n",
    "print(\"The number is divisible %d times.\" % count)"
   ]
  },
  {
   "cell_type": "code",
   "execution_count": 9,
   "id": "ef1008be-0af9-4af8-90bc-48192080107a",
   "metadata": {},
   "outputs": [
    {
     "name": "stdout",
     "output_type": "stream",
     "text": [
      "{1} is not divisible by 3.\n",
      "{2} is not divisible by 3.\n",
      "{3} is divisible by 3.\n",
      "{4} is not divisible by 3.\n",
      "{5} is not divisible by 3.\n",
      "{6} is divisible by 3.\n",
      "{7} is not divisible by 3.\n",
      "{8} is not divisible by 3.\n",
      "{9} is divisible by 3.\n",
      "{10} is not divisible by 3.\n",
      "{11} is not divisible by 3.\n",
      "{12} is divisible by 3.\n",
      "{13} is not divisible by 3.\n",
      "{14} is not divisible by 3.\n",
      "{15} is divisible by 3.\n",
      "{16} is not divisible by 3.\n",
      "{17} is not divisible by 3.\n",
      "{18} is divisible by 3.\n",
      "{19} is not divisible by 3.\n",
      "{20} is not divisible by 3.\n",
      "{21} is divisible by 3.\n",
      "{22} is not divisible by 3.\n",
      "{23} is not divisible by 3.\n",
      "{24} is divisible by 3.\n",
      "{25} is not divisible by 3.\n"
     ]
    }
   ],
   "source": [
    "numbers = [i for i in range(1, 26)]\n",
    "for num in numbers:\n",
    "    if num % 3 == 0:\n",
    "        print({num},\"is divisible by 3.\")\n",
    "    else:\n",
    "        print({num} ,\"is not divisible by 3.\")\n"
   ]
  },
  {
   "cell_type": "code",
   "execution_count": 10,
   "id": "76d8f814-23bf-4ec7-83e8-383899642f45",
   "metadata": {},
   "outputs": [
    {
     "name": "stdout",
     "output_type": "stream",
     "text": [
      "Original list: [1, 2, 3]\n",
      "Modified list: [1, 20, 3]\n",
      "List after append: [1, 20, 3, 4]\n"
     ]
    }
   ],
   "source": [
    "\"\"\"Mutable Data Types\n",
    "Mutable data types can be modified after their creation. Changes to a mutable object affect the original object. Common examples include:\n",
    "\n",
    "Lists: Lists can be changed by adding, removing, or modifying elements.\n",
    "Dictionaries: Dictionaries can be updated with new key-value pairs or modifications to existing pairs.\n",
    "Sets: Sets can have elements added or removed.\"\"\"\n",
    "my_list = [1, 2, 3]\n",
    "print(\"Original list:\", my_list)\n",
    "\n",
    "# Modifying the list\n",
    "my_list[1] = 20\n",
    "print(\"Modified list:\", my_list)\n",
    "\n",
    "# Adding an element\n",
    "my_list.append(4)\n",
    "print(\"List after append:\", my_list)\n"
   ]
  },
  {
   "cell_type": "code",
   "execution_count": 11,
   "id": "85bc59f0-3b2c-4bcc-8a7a-33a51be49ed5",
   "metadata": {},
   "outputs": [
    {
     "name": "stdout",
     "output_type": "stream",
     "text": [
      "Original string: Hello\n",
      "Modified string: Jello\n",
      "Original string after modification attempt: Hello\n"
     ]
    }
   ],
   "source": [
    "\"\"\"Immutable Data Types\n",
    "Immutable data types cannot be changed once they are created. Any attempt to modify an immutable object results in the creation of a new object. Common examples include:\n",
    "\n",
    "Strings: Strings cannot be altered once created.\n",
    "Tuples: Tuples are fixed-size and their elements cannot be changed.\n",
    "Integers and Floats: Numeric values cannot be changed in place.\"\"\"\n",
    "my_string = \"Hello\"\n",
    "print(\"Original string:\", my_string)\n",
    "\n",
    "# Attempting to modify the string\n",
    "new_string = my_string.replace(\"H\", \"J\")\n",
    "print(\"Modified string:\", new_string)\n",
    "\n",
    "# The original string remains unchanged\n",
    "print(\"Original string after modification attempt:\", my_string)\n"
   ]
  },
  {
   "cell_type": "code",
   "execution_count": null,
   "id": "b911a038-d783-4fc9-87bd-27070db46215",
   "metadata": {},
   "outputs": [],
   "source": []
  }
 ],
 "metadata": {
  "kernelspec": {
   "display_name": "Python 3 (ipykernel)",
   "language": "python",
   "name": "python3"
  },
  "language_info": {
   "codemirror_mode": {
    "name": "ipython",
    "version": 3
   },
   "file_extension": ".py",
   "mimetype": "text/x-python",
   "name": "python",
   "nbconvert_exporter": "python",
   "pygments_lexer": "ipython3",
   "version": "3.11.7"
  }
 },
 "nbformat": 4,
 "nbformat_minor": 5
}
